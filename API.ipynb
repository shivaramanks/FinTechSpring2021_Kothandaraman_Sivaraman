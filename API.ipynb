{
  "nbformat": 4,
  "nbformat_minor": 0,
  "metadata": {
    "colab": {
      "name": "Untitled1.ipynb",
      "provenance": [],
      "authorship_tag": "ABX9TyO6tJfykiVdbu58NEKKfaJQ",
      "include_colab_link": true
    },
    "kernelspec": {
      "name": "python3",
      "display_name": "Python 3"
    }
  },
  "cells": [
    {
      "cell_type": "markdown",
      "metadata": {
        "id": "view-in-github",
        "colab_type": "text"
      },
      "source": [
        "<a href=\"https://colab.research.google.com/github/shivaramanks/FinTechSpring2021_Kothandaraman_Sivaraman/blob/main/API.ipynb\" target=\"_parent\"><img src=\"https://colab.research.google.com/assets/colab-badge.svg\" alt=\"Open In Colab\"/></a>"
      ]
    },
    {
      "cell_type": "code",
      "metadata": {
        "colab": {
          "base_uri": "https://localhost:8080/"
        },
        "id": "ieCVvzyGAELW",
        "outputId": "19570e59-b600-437c-a0af-73552f805254"
      },
      "source": [
        "import requests\r\n",
        "import json\r\n",
        "import pandas as pd\r\n",
        "headers ={ 'Accepts': 'application/json','X-CMC_PRO_API_KEY': 'd19b3b7d-40cc-460e-958b-b475728981b0'}\r\n",
        "url = 'https://pro-api.coinmarketcap.com/v1/cryptocurrency/listings/latest'\r\n",
        "parameters = { 'start': '1', 'limit': '5000', 'convert': 'USD' }\r\n",
        "session = requests.Session()\r\n",
        "session.headers.update(headers)\r\n",
        "try:\r\n",
        "  response= session.get(url, params = parameters)\r\n",
        "  data_jason = json.loads(response.text)\r\n",
        "  df=pd.DataFrame(data_jason['data'])\r\n",
        "  print(df[['name','date_added']])\r\n",
        "except (ConnectionError, requests.Timeout, requests.TooManyRedirects) as e:\r\n",
        "  print(e)\r\n",
        "\r\n"
      ],
      "execution_count": 45,
      "outputs": [
        {
          "output_type": "stream",
          "text": [
            "                        name                date_added\n",
            "0                    Bitcoin  2013-04-28T00:00:00.000Z\n",
            "1                   Ethereum  2015-08-07T00:00:00.000Z\n",
            "2                     Tether  2015-02-25T00:00:00.000Z\n",
            "3                   Polkadot  2020-08-19T00:00:00.000Z\n",
            "4                        XRP  2013-08-04T00:00:00.000Z\n",
            "...                      ...                       ...\n",
            "4073            Space Dollar  2021-01-01T00:00:00.000Z\n",
            "4074          Venus Filecoin  2021-01-08T00:00:00.000Z\n",
            "4075               Venus DAI  2021-01-08T00:00:00.000Z\n",
            "4076          Wrapped Monero  2021-01-12T00:00:00.000Z\n",
            "4077  Dynamic Supply Tracker  2021-01-12T00:00:00.000Z\n",
            "\n",
            "[4078 rows x 2 columns]\n"
          ],
          "name": "stdout"
        }
      ]
    },
    {
      "cell_type": "code",
      "metadata": {
        "id": "f3cIRDQeokLB"
      },
      "source": [
        ""
      ],
      "execution_count": null,
      "outputs": []
    }
  ]
}